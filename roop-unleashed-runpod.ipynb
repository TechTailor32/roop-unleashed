{
 "cells": [
  {
   "cell_type": "markdown",
   "id": "9caed85b",
   "metadata": {},
   "source": [
    "This notebook is designed and tested using RunPod.com\n",
    "Pytorch 2.0.1 template\n",
    "  runpod/pytorch:2.0.1-py3.10-cuda11.8.0-devel-ubuntu22.04"
   ]
  },
  {
   "cell_type": "code",
   "execution_count": null,
   "id": "3fa10d2a-f41b-4b3f-a852-f73495fb9b01",
   "metadata": {
    "editable": true,
    "slideshow": {
     "slide_type": ""
    },
    "tags": []
   },
   "outputs": [],
   "source": [
    "##############################################################################################################\n",
    "# set environment variables\n",
    "##############################################################################################################\n",
    "import os\n",
    "\n",
    "print(\"Setting environment variables...\")\n",
    "os.environ['GIT_REPO'] = 'https://github.com/TechTailor32/roop-unleashed.git'\n",
    "os.environ['NAME'] = 'ROOP'\n",
    "os.environ['WORKINGFOLDER'] = '/workspace/roop-unleashed'  # Change to a valid path\n",
    "\n",
    "# config_cpu.yaml (CPU only) config_gpu.yaml (GPU) config_colab.yaml (Google Colab) config.yaml (Kaggle)\n",
    "os.environ['CONFIGFILE'] = 'config_cuda.yaml'  # this default is config_cuda.yaml assuming you have GPU\n",
    "\n",
    "# Output Status to Screen\n",
    "print(\"Environment variables set:\")\n",
    "print(\"GIT_REPO:\", os.environ['GIT_REPO'])\n",
    "print(\"NAME:\", os.environ['NAME'])\n",
    "print(\"WORKINGFOLDER:\", os.environ['WORKINGFOLDER'])\n",
    "print(\"CONFIGFILE:\", os.environ['CONFIGFILE'])\n",
    "\n",
    "\n"
   ]
  },
  {
   "cell_type": "code",
   "execution_count": null,
   "id": "72ad38b0-f725-49a1-8813-05534f419182",
   "metadata": {
    "editable": true,
    "slideshow": {
     "slide_type": ""
    },
    "tags": []
   },
   "outputs": [],
   "source": [
    "##############################################################################################################\n",
    "# install Git for using a Git repo and show status on screen\n",
    "##############################################################################################################\n",
    "\n",
    "print(\"Installing GitPython library...\")\n",
    "!pip install gitpython\n",
    "print(\"GitPython installed successfully.\")\n"
   ]
  },
  {
   "cell_type": "code",
   "execution_count": null,
   "id": "0e802b97-b0fd-4a57-b6d2-d33318e65f5d",
   "metadata": {},
   "outputs": [],
   "source": [
    "##############################################################################################################\n",
    "# clone the repo (set in the Environment Variables section)\n",
    "#   and output status to screen\n",
    "##############################################################################################################\n",
    "\n",
    "from git import Repo\n",
    "\n",
    "print(\"Cloning the repository...\")\n",
    "Repo.clone_from(os.environ['GIT_REPO'], os.environ['WORKINGFOLDER'])\n",
    "print(f\"Repository cloned successfully into {os.environ['WORKINGFOLDER']}\")\n"
   ]
  },
  {
   "cell_type": "code",
   "execution_count": null,
   "id": "9b39f70f-7557-4b5b-ba8e-dd41d0c23f13",
   "metadata": {},
   "outputs": [],
   "source": [
    "##############################################################################################################\n",
    "# Show current folder -> Change to the working directory if not there\n",
    "##############################################################################################################\n",
    "\n",
    "current_directory = os.getcwd()\n",
    "print(\"Current Working Directory:\", current_directory)\n",
    "\n",
    "# Check if the current directory is the same as the WORKINGFOLDER\n",
    "if current_directory != os.environ['WORKINGFOLDER']:\n",
    "    print(\"Changing directory to the WORKINGFOLDER...\")\n",
    "    os.chdir(os.environ['WORKINGFOLDER'])\n",
    "    # Confirm the change of directory\n",
    "    print(\"New Current Working Directory:\", os.getcwd())\n",
    "else:\n",
    "    print(\"Already in the WORKINGFOLDER.\")\n"
   ]
  },
  {
   "cell_type": "code",
   "execution_count": null,
   "id": "f8680a5d-25e4-4e63-ba28-f782ca907dae",
   "metadata": {},
   "outputs": [],
   "source": [
    "##############################################################################################################\n",
    "# swap the config file based on choices in Environment Variables section\n",
    "##############################################################################################################\n",
    "\n",
    "import shutil\n",
    "\n",
    "print(\"Moving configuration file...\")\n",
    "source_path = os.path.join(os.environ['WORKINGFOLDER'], os.environ['CONFIGFILE'])\n",
    "destination_path = os.path.join(os.environ['WORKINGFOLDER'], 'config.yaml')\n",
    "shutil.move(source_path, destination_path)\n",
    "print(f\"Moved {os.environ['CONFIGFILE']} to {destination_path}\")\n"
   ]
  },
  {
   "cell_type": "code",
   "execution_count": null,
   "id": "b4f6783f-1d1e-422d-af4c-ef390ba00afb",
   "metadata": {
    "scrolled": true
   },
   "outputs": [],
   "source": [
    "##############################################################################################################\n",
    "# install extra dependencies and libraries\n",
    "##############################################################################################################\n",
    "\n",
    "import os\n",
    "\n",
    "print(\"Updating system and installing required packages...\")\n",
    "!apt-get update\n",
    "!apt-get install -y libgl1-mesa-glx ffmpeg\n",
    "print(\"Packages installed successfully.\")\n"
   ]
  },
  {
   "cell_type": "code",
   "execution_count": null,
   "id": "5fb27a98-4ce5-4aa3-87f1-ec3f8aadf343",
   "metadata": {
    "scrolled": true
   },
   "outputs": [],
   "source": [
    "##############################################################################################################\n",
    "# isntall dependencies based on the requirements.txt in the repo\n",
    "##############################################################################################################\n",
    "\n",
    "print(\"Installing required Python packages from requirements.txt...\")\n",
    "!pip install --no-cache-dir -r '{os.environ[\"WORKINGFOLDER\"]}/requirements.txt'\n",
    "print(\"Python packages installed.\")\n"
   ]
  },
  {
   "cell_type": "code",
   "execution_count": null,
   "id": "046d7ade-4118-4aec-8cff-f1c59ca5a43d",
   "metadata": {},
   "outputs": [],
   "source": [
    "##############################################################################################################\n",
    "#  the repo also has Gradio support.  The following also adds an Ngrok option\n",
    "##############################################################################################################\n",
    "\n",
    "Ngrok_token = \"2bgBSZ0C0BreyEthOM2fFz0T8HS_3iv1tACxTnD8JaV5EP2bZ\" #@param {type:\"string\"}\n",
    "# Put your ngrok token here (obtainable from https://ngrok.com)\n",
    "\n",
    "Ngrok_domain = \"\" # optional, leave empty if you don't have a domain\n",
    "\n",
    "##########################################################################\n",
    "\n",
    "!pip install pyngrok\n",
    "\n",
    "from pyngrok import ngrok, conf\n",
    "import fileinput\n",
    "import sys\n",
    "\n",
    "if Ngrok_token!=\"\":\n",
    "  ngrok.kill()\n",
    "  srv=ngrok.connect(7860 , pyngrok_config=conf.PyngrokConfig(auth_token=Ngrok_token),\n",
    "                    bind_tls=True, domain=Ngrok_domain).public_url\n",
    "  print(srv)\n",
    "  get_ipython().system(\"python run.py\")\n",
    "else:\n",
    "  print('An ngrok token is required. You can get one on https://ngrok.com and paste it into the ngrok_token field.')"
   ]
  }
 ],
 "metadata": {
  "kernelspec": {
   "display_name": "Python 3 (ipykernel)",
   "language": "python",
   "name": "python3"
  },
  "language_info": {
   "codemirror_mode": {
    "name": "ipython",
    "version": 3
   },
   "file_extension": ".py",
   "mimetype": "text/x-python",
   "name": "python",
   "nbconvert_exporter": "python",
   "pygments_lexer": "ipython3",
   "version": "3.10.12"
  }
 },
 "nbformat": 4,
 "nbformat_minor": 5
}
