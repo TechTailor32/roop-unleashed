{
 "cells": [
  {
   "cell_type": "markdown",
   "id": "9caed85b",
   "metadata": {},
   "source": [
    "# This notebook is designed and tested using RunPod.com\n",
    "\n",
    "*Pytorch 2.0.1 template:  \n",
    "  runpod/pytorch:2.0.1-py3.10-cuda11.8.0-devel-ubuntu22.04*"
   ]
  },
  {
   "cell_type": "code",
   "execution_count": null,
   "id": "3fa10d2a-f41b-4b3f-a852-f73495fb9b01",
   "metadata": {
    "editable": true,
    "slideshow": {
     "slide_type": ""
    },
    "tags": []
   },
   "outputs": [],
   "source": [
    "##############################################################################################################\n",
    "# set environment variables\n",
    "##############################################################################################################\n",
    "\n",
    "import os\n",
    "\n",
    "print(\"Setting environment variables...\")\n",
    "os.environ['GIT_REPO'] = 'https://github.com/TechTailor32/roop-unleashed.git'\n",
    "os.environ['NAME'] = 'ROOP'\n",
    "os.environ['WORKINGFOLDER'] = '/workspace/roop-unleashed'  # Change to a valid path (e.g., /kaggle/workspace/roop-unleashed for Kaggle)\n",
    "os.environ['PLATFORM'] = 'runpod'   # other options is 'kaggle'\n",
    "os.environ['NGROKTOKEN'] = \"\"  # if no token is here, system will run by default and use Gradio.  Otherwise, paste token between quotes and you can use NGROK as well\n",
    "os.environ['NGROKDOMAIN'] = \"\"  # optional, leave empty if you don't have an ngrok domain\n",
    "# CONFIGFILE: config_cpu.yaml (CPU only) config_gpu.yaml (GPU) config_colab.yaml (Google Colab or Kaggle)\n",
    "os.environ['CONFIGFILE'] = 'config_cuda.yaml'  # this default is config_cuda.yaml assuming you have GPU\n",
    "\n",
    "# Output Status to Screen\n",
    "print(\"Environment variables set:\")\n",
    "print(\"GIT_REPO:\", os.environ['GIT_REPO'])\n",
    "print(\"NAME:\", os.environ['NAME'])\n",
    "print(\"WORKINGFOLDER:\", os.environ['WORKINGFOLDER'])\n",
    "print(\"CONFIGFILE:\", os.environ['NGROKTOKEN'])\n",
    "print(\"CONFIGFILE:\", os.environ['NGROKDOMAIN'])\n",
    "print(\"CONFIGFILE:\", os.environ['CONFIGFILE'])\n"
   ]
  },
  {
   "cell_type": "code",
   "execution_count": null,
   "id": "0e802b97-b0fd-4a57-b6d2-d33318e65f5d",
   "metadata": {},
   "outputs": [],
   "source": [
    "##############################################################################################################\n",
    "# intall git and clone the repo (set in the Environment Variables section)\n",
    "#   and output status to screen\n",
    "##############################################################################################################\n",
    "\n",
    "import os\n",
    "\n",
    "print(\"Installing GitPython library...\")\n",
    "os.system('apt-get install -y git')\n",
    "os.system(\"pip install gitpython\")\n",
    "print(\"GitPython installed successfully.\")\n",
    "\n",
    "from git import Repo\n",
    "from git.exc import GitCommandError\n",
    "\n",
    "# Environment variables\n",
    "GIT_REPO_URL = os.environ['GIT_REPO']\n",
    "WORKING_FOLDER = os.environ['WORKINGFOLDER']\n",
    "\n",
    "try:\n",
    "    print(\"Cloning the repository...\")\n",
    "    Repo.clone_from(GIT_REPO_URL, WORKING_FOLDER)\n",
    "    print(f\"Repository cloned successfully into {WORKING_FOLDER}\")\n",
    "except GitCommandError as e:\n",
    "    print(f\"Failed to clone the repository. Error: {e}\")\n",
    "except Exception as e:\n",
    "    print(f\"An unexpected error occurred: {e}\")\n"
   ]
  },
  {
   "cell_type": "code",
   "execution_count": null,
   "id": "9b39f70f-7557-4b5b-ba8e-dd41d0c23f13",
   "metadata": {},
   "outputs": [],
   "source": [
    "##############################################################################################################\n",
    "# Show current folder -> Change to the working directory if not there\n",
    "##############################################################################################################\n",
    "\n",
    "current_directory = os.getcwd()\n",
    "print(\"Current Working Directory:\", current_directory)\n",
    "\n",
    "# Check if the current directory is the same as the WORKINGFOLDER\n",
    "if current_directory != os.environ['WORKINGFOLDER']:\n",
    "    print(\"Changing directory to the WORKINGFOLDER...\")\n",
    "    os.chdir(os.environ['WORKINGFOLDER'])\n",
    "    # Confirm the change of directory\n",
    "    print(\"New Current Working Directory:\", os.getcwd())\n",
    "else:\n",
    "    print(\"Already in the WORKINGFOLDER.\")\n"
   ]
  },
  {
   "cell_type": "code",
   "execution_count": null,
   "id": "f8680a5d-25e4-4e63-ba28-f782ca907dae",
   "metadata": {},
   "outputs": [],
   "source": [
    "##############################################################################################################\n",
    "# swap the config file based on choices in Environment Variables section\n",
    "##############################################################################################################\n",
    "\n",
    "import shutil\n",
    "\n",
    "print(\"Moving configuration file...\")\n",
    "source_path = os.path.join(os.environ['WORKINGFOLDER'], os.environ['CONFIGFILE'])\n",
    "destination_path = os.path.join(os.environ['WORKINGFOLDER'], 'config.yaml')\n",
    "shutil.move(source_path, destination_path)\n",
    "print(f\"Moved {os.environ['CONFIGFILE']} to {destination_path}\")\n"
   ]
  },
  {
   "cell_type": "code",
   "execution_count": null,
   "id": "b4f6783f-1d1e-422d-af4c-ef390ba00afb",
   "metadata": {
    "scrolled": true
   },
   "outputs": [],
   "source": [
    "##############################################################################################################\n",
    "# install extra dependencies and libraries\n",
    "##############################################################################################################\n",
    "\n",
    "import os\n",
    "\n",
    "print(\"Updating system and installing required packages...\")\n",
    "os.system(\"apt-get update\")\n",
    "os.system(\"apt-get install -y libgl1-mesa-glx ffmpeg\")\n",
    "print(\"Packages installed successfully.\")\n",
    "\n",
    "# Assume PLATFORM and CONFIGFILE are environment variables\n",
    "PLATFORM = os.getenv('PLATFORM')\n",
    "CONFIGFILE = os.getenv('CONFIGFILE')\n",
    "\n",
    "if PLATFORM == 'kaggle':\n",
    "    if CONFIGFILE == 'config_cuda.yaml':\n",
    "        print(\"CUDA configuration detected. Installing CUDA drivers...\")\n",
    "        os.system(\"apt-get install --no-install-recommends cuda-drivers\")\n",
    "    else:\n",
    "        print(\"No CUDA configuration detected. Proceeding without CUDA installation.\")\n",
    "else:\n",
    "    print(\"Finished checking platform and configuration.\")\n",
    "\n",
    "\n"
   ]
  },
  {
   "cell_type": "code",
   "execution_count": null,
   "id": "5fb27a98-4ce5-4aa3-87f1-ec3f8aadf343",
   "metadata": {
    "scrolled": true
   },
   "outputs": [],
   "source": [
    "##############################################################################################################\n",
    "# install dependencies based on the requirements.txt in the repo\n",
    "##############################################################################################################\n",
    "\n",
    "import os\n",
    "\n",
    "print(\"Installing required Python packages from requirements.txt...\")\n",
    "# Construct the command string\n",
    "command = \"pip install --no-cache-dir -r \" + os.path.join(os.environ[\"WORKINGFOLDER\"], \"requirements.txt\")\n",
    "# Execute the command\n",
    "os.system(command)\n",
    "print(\"Python packages installed.\")\n",
    "\n"
   ]
  },
  {
   "cell_type": "code",
   "execution_count": null,
   "id": "046d7ade-4118-4aec-8cff-f1c59ca5a43d",
   "metadata": {},
   "outputs": [],
   "source": [
    "##############################################################################################################\n",
    "#  the repo has Gradio support.  The following checks for an ngrok as well.\n",
    "##############################################################################################################\n",
    "\n",
    "import os\n",
    "import subprocess\n",
    "\n",
    "# Retrieve environment variables\n",
    "NGROK_TOKEN = os.getenv('NGROKTOKEN')\n",
    "NGROK_DOMAIN = os.getenv('NGROKDOMAIN')\n",
    "\n",
    "# Check if NGROK_TOKEN is set\n",
    "if NGROK_TOKEN:\n",
    "    # Install pyngrok if not already installed\n",
    "    subprocess.call([\"pip\", \"install\", \"pyngrok\"])\n",
    "\n",
    "    from pyngrok import ngrok, conf\n",
    "\n",
    "    # Ensure no ngrok instances are running\n",
    "    ngrok.kill()\n",
    "\n",
    "    # Set up and open an ngrok tunnel\n",
    "    ngrok_config = conf.PyngrokConfig(auth_token=NGROK_TOKEN, region=\"us\")\n",
    "    public_url = ngrok.connect(7860, pyngrok_config=ngrok_config, bind_tls=True, domain=NGROK_DOMAIN).public_url\n",
    "    print(\"Ngrok Tunnel URL:\", public_url)\n",
    "\n",
    "    # Run the Python script\n",
    "    os.system(\"python run.py\")\n",
    "else:\n",
    "    print(\"No ngrok token detected, running default system...\")\n",
    "    os.system(\"python run.py\")"
   ]
  }
 ],
 "metadata": {
  "kernelspec": {
   "display_name": "Python 3 (ipykernel)",
   "language": "python",
   "name": "python3"
  },
  "language_info": {
   "codemirror_mode": {
    "name": "ipython",
    "version": 3
   },
   "file_extension": ".py",
   "mimetype": "text/x-python",
   "name": "python",
   "nbconvert_exporter": "python",
   "pygments_lexer": "ipython3",
   "version": "3.10.12"
  }
 },
 "nbformat": 4,
 "nbformat_minor": 5
}
